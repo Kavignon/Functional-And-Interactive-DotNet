{
 "cells": [
  {
   "cell_type": "markdown",
   "metadata": {},
   "source": [
    "Code Challenge Notebook\n",
    "\n",
    "Problem Source: Project EULER\n",
    "Problem #1 - Multiples of 3 and 5\n",
    "\n",
    "Description:\n",
    "If we list all the natural numbers below 10 that are multiples of 3 or 5, we get 3, 5, 6 and 9. The sum of these multiples is 23.\n",
    "\n",
    "Find the sum of all the multiples of 3 or 5 below 1000."
   ]
  },
  {
   "cell_type": "markdown",
   "metadata": {},
   "source": [
    "Solving the problem\n",
    "\n",
    "1. Establishing the problem constraints\n",
    "2. Establishing the high level algorithm\n",
    "3. Picking a data structure\n",
    "4. Implementation\n",
    "5. Big O Evaluation"
   ]
  },
  {
   "cell_type": "markdown",
   "metadata": {},
   "source": [
    "Establishing the problem constraints\n",
    "\n",
    "It's already given inside the description of the problem but let's go a step beyond. \n",
    "\n",
    "- Only use positive numbers (i.e. >0)\n",
    "- Largest value allowed is 999"
   ]
  },
  {
   "cell_type": "markdown",
   "metadata": {},
   "source": [
    "Establishing the high level algorithm\n",
    "\n",
    "Here, we only want to sum multiples of 3 and 5 inside the following bounds [0, 999]. The selected algorithm here is to iterate once through a set of values until we reach 999 and add together multiples of 3 & 5."
   ]
  },
  {
   "cell_type": "markdown",
   "metadata": {},
   "source": [
    "Picking a data structure\n",
    "\n",
    "To solve this, I'll pick a list containing the numbers 0 to 999 and sum together values that match the predicate that we've established beforehand."
   ]
  },
  {
   "cell_type": "code",
   "execution_count": 6,
   "metadata": {},
   "outputs": [
    {
     "data": {
      "text/plain": [
       "233168"
      ]
     },
     "execution_count": 6,
     "metadata": {},
     "output_type": "execute_result"
    }
   ],
   "source": [
    "[0..1..999]\n",
    "|> List.filter(fun x -> x % 3 = 0 || x % 5 = 0)\n",
    "|> List.reduce (+)"
   ]
  },
  {
   "cell_type": "markdown",
   "metadata": {},
   "source": [
    "That looks ok. How would would we update this implementation to take on any set of number of multiples and support any size of an upperbound? Previously, we were supporting only the set [3, 5] along with the upper bound limit of 999. We can generalize this implementation."
   ]
  },
  {
   "cell_type": "code",
   "execution_count": 8,
   "metadata": {},
   "outputs": [
    {
     "data": {
      "text/plain": [
       "2550"
      ]
     },
     "execution_count": 8,
     "metadata": {},
     "output_type": "execute_result"
    }
   ],
   "source": [
    "let sumMultipleOfMatching valuesToMatchOn upperBoundLimit =\n",
    "    [0..1..upperBoundLimit]\n",
    "    |> List.filter(fun current -> valuesToMatchOn |> List.exists(fun x -> current % x = 0))\n",
    "    |> List.reduce((+))\n",
    "    \n",
    "sumMultipleOfMatching [2;4;8;12] 100"
   ]
  },
  {
   "cell_type": "markdown",
   "metadata": {},
   "source": [
    "Big O Evaluation\n",
    "\n",
    "Space: O(N)\n",
    "\n",
    "Explications: The function sumMultipleOfMatching takes O(n) space because the size of the list scales as the input size grows.\n",
    "\n",
    "\n",
    "Time: O(n) where n is the upperbound limit \n",
    "\n",
    "Explications: We first create a list of N element. We iterate through it by checking the set of multiples M to see if the current element is a known multiple. Once we're rid of the numbers that didn't match on the set, we're doing a sum of the values in a collection of X size."
   ]
  }
 ],
 "metadata": {
  "kernelspec": {
   "display_name": "F#",
   "language": "fsharp",
   "name": "ifsharp"
  },
  "language": "fsharp",
  "language_info": {
   "codemirror_mode": "",
   "file_extension": ".fs",
   "mimetype": "text/x-fsharp",
   "name": "fsharp",
   "nbconvert_exporter": "",
   "pygments_lexer": "",
   "version": "4.3.1.0"
  }
 },
 "nbformat": 4,
 "nbformat_minor": 2
}
