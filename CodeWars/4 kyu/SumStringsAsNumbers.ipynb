{
 "cells": [
  {
   "cell_type": "markdown",
   "metadata": {},
   "source": [
    "Code Challenge Notebook\n",
    "\n",
    "Problem Source: CodeWars\n",
    "Problem - Sum Strings as Numbers\n",
    "\n",
    "Description:\n",
    "Given the string representations of two integers, return the string representation of the sum of those integers.\n",
    "\n",
    "For example:\n",
    "\n",
    "sumStrings('1','2') // => '3'\n",
    "\n",
    "A string representation of an integer will contain no characters besides the ten numerals \"0\" to \"9\".\n",
    "\n",
    "Solving the problem: \n",
    "\n",
    "1. Constraint\n",
    "2. Test cases for the problem\n",
    "3. High level algorithm\n",
    "3. Data structure(s)\n",
    "4. Implementation\n",
    "5. Big O evaluation of the script"
   ]
  },
  {
   "cell_type": "markdown",
   "metadata": {},
   "source": [
    "Constraints:\n",
    "    * Can we assume that we have to deal with big numbers?\n",
    "        * Yes\n",
    "    * What is the biggest value to handle?\n",
    "        * 100,000,000,000,000,000 (Can be covered by a long - int64)\n",
    "    * Do we have to handle negative numbers?\n",
    "        * No, only positive numbers have to be handle here\n",
    "    * Will we receive anything else than strings?\n",
    "        * No.\n",
    "        * Note: You can receive more than 2 strings to add together.\n",
    "    * Do the numbers, as integers, fit in memory?\n",
    "        * Yes\n",
    "    * Can we assume that when adding the numbers together we still fit in memory? \n",
    "        * Yes\n",
    "    * Can we use any additional data structures?\n",
    "        * Yes "
   ]
  },
  {
   "cell_type": "markdown",
   "metadata": {},
   "source": [
    "Test cases:\n",
    "\n",
    "- \"10 000 000\", \"100 000 000\", \"100 000 000 000 000\"\n",
    "- \"456 983 235\", \"2 457 230 890\", \"543 444 777 999 888\"\n",
    "- \"10 000\", \"50 000\", \"100 000\", \"500 000\", \"2 500 000\", \"75 000 000\""
   ]
  },
  {
   "cell_type": "markdown",
   "metadata": {},
   "source": [
    "High level algorithm:\n",
    "bigNumbers = empty\n",
    "For each string numbers in the input list\n",
    "    stringSize = stringNumber.Length\n",
    "    currentNumber = 0\n",
    "    For each char found in string\n",
    "        currentNumber = currentNumber + 10^stringSize\n",
    "        decrement stringSize\n",
    "    Add currentNumber in bigNumbers\n",
    "result = 0\n",
    "For each number in bigNumbers\n",
    "    result = result + number\n",
    "Return result"
   ]
  },
  {
   "cell_type": "markdown",
   "metadata": {},
   "source": [
    "Data structures\n",
    "* Strings\n",
    "* Arrays"
   ]
  },
  {
   "cell_type": "code",
   "execution_count": 11,
   "metadata": {},
   "outputs": [
    {
     "data": {
      "text/plain": [
       "[\"100000110000000\"; \"543447692214013\"; \"78160000\"]"
      ]
     },
     "execution_count": 11,
     "metadata": {},
     "output_type": "execute_result"
    }
   ],
   "source": [
    "open System\n",
    "\n",
    "let tryParseLongNumber (s: string) =\n",
    "    match Int64.TryParse(s) with\n",
    "    | (true, bi) -> Some bi\n",
    "    | (false, _) -> None\n",
    "\n",
    "let sumStringsAsInts bigStrNumbers =\n",
    "    let sum = \n",
    "        bigStrNumbers\n",
    "        |> Array.map tryParseLongNumber\n",
    "        |> Array.choose id\n",
    "        |> Array.reduce (+)\n",
    "    sum.ToString()\n",
    "    \n",
    "let a = sumStringsAsInts [|\"10000000\"; \"100000000\"; \"100000000000000\"|]\n",
    "let b = sumStringsAsInts [|\"456983235\"; \"2457230890\"; \"543444777999888\"|]\n",
    "let c = sumStringsAsInts [|\"10000\"; \"50000\"; \"100000\"; \"500000\"; \"2500000\"; \"75000000\"|]\n",
    "\n",
    "[a; b; c]"
   ]
  },
  {
   "cell_type": "markdown",
   "metadata": {},
   "source": [
    "Time: O(n)\n",
    "The summation is directly influenced by the the input list of numbers (N) to parse and add together to finally get the string result. It linearly scales based on the size of the collection.\n",
    "\n",
    "O(N + N) = O(2N) -> O(N)\n",
    "\n",
    "Space: O(n)\n",
    "In a scenario where all the values in the input collection are valid, we the function sumStringsAsInts takes O(n) space. The 'map' function allocated an additional temporary array that will scale linearly (N) based on the size on the input. Choose will also be allocate an array of N space which in the end is reduced to a single value.\n",
    "O(N + N) = O(2N) -> O(N)"
   ]
  }
 ],
 "metadata": {
  "kernelspec": {
   "display_name": "F#",
   "language": "fsharp",
   "name": "ifsharp"
  },
  "language": "fsharp",
  "language_info": {
   "codemirror_mode": "",
   "file_extension": ".fs",
   "mimetype": "text/x-fsharp",
   "name": "fsharp",
   "nbconvert_exporter": "",
   "pygments_lexer": "",
   "version": "4.3.1.0"
  }
 },
 "nbformat": 4,
 "nbformat_minor": 2
}
